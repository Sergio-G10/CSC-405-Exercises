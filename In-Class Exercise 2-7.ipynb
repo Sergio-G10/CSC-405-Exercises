{
 "cells": [
  {
   "cell_type": "markdown",
   "id": "714967d6",
   "metadata": {},
   "source": [
    "# Task 1"
   ]
  },
  {
   "cell_type": "code",
   "execution_count": 3,
   "id": "005aafa2",
   "metadata": {},
   "outputs": [
    {
     "data": {
      "text/plain": [
       "array([83,  6, 38, 90, 11, 43, 12, 41, 15, 96])"
      ]
     },
     "execution_count": 3,
     "metadata": {},
     "output_type": "execute_result"
    }
   ],
   "source": [
    "import numpy as np\n",
    "\n",
    "array_1d = np.random.randint(1, 100, 10)\n",
    "array_1d"
   ]
  },
  {
   "cell_type": "code",
   "execution_count": 6,
   "id": "653b4232",
   "metadata": {},
   "outputs": [
    {
     "name": "stdout",
     "output_type": "stream",
     "text": [
      "83\n"
     ]
    }
   ],
   "source": [
    "print(array_1d[0])"
   ]
  },
  {
   "cell_type": "code",
   "execution_count": 7,
   "id": "72cc8cd3",
   "metadata": {},
   "outputs": [
    {
     "name": "stdout",
     "output_type": "stream",
     "text": [
      "96\n"
     ]
    }
   ],
   "source": [
    "print(array_1d[-1])"
   ]
  },
  {
   "cell_type": "code",
   "execution_count": 11,
   "id": "503cbab2",
   "metadata": {},
   "outputs": [
    {
     "data": {
      "text/plain": [
       "array([[0.11623904, 0.04504768, 0.77989936],\n",
       "       [0.02554874, 0.01468987, 0.43364362],\n",
       "       [0.01659211, 0.96904534, 0.07170672]])"
      ]
     },
     "execution_count": 11,
     "metadata": {},
     "output_type": "execute_result"
    }
   ],
   "source": [
    "array_2d = np.random.rand(3, 3)\n",
    "\n",
    "array_2d"
   ]
  },
  {
   "cell_type": "markdown",
   "id": "83e7197a",
   "metadata": {},
   "source": [
    "# Task 2"
   ]
  },
  {
   "cell_type": "code",
   "execution_count": 12,
   "id": "dc45ab22",
   "metadata": {},
   "outputs": [
    {
     "name": "stdout",
     "output_type": "stream",
     "text": [
      "[0.11623904 0.04504768 0.77989936]\n"
     ]
    }
   ],
   "source": [
    "print(array_2d[0])"
   ]
  },
  {
   "cell_type": "code",
   "execution_count": 23,
   "id": "9f934274",
   "metadata": {},
   "outputs": [
    {
     "name": "stdout",
     "output_type": "stream",
     "text": [
      "[0.77989936 0.43364362 0.07170672]\n"
     ]
    }
   ],
   "source": [
    "print(array_2d[:,2])"
   ]
  },
  {
   "cell_type": "code",
   "execution_count": 47,
   "id": "04bafd65",
   "metadata": {},
   "outputs": [
    {
     "data": {
      "text/plain": [
       "array([[0.11623904, 0.04504768],\n",
       "       [0.02554874, 0.01468987]])"
      ]
     },
     "execution_count": 47,
     "metadata": {},
     "output_type": "execute_result"
    }
   ],
   "source": [
    "new_array = array_2d[0:2, 0:2]\n",
    "\n",
    "new_array"
   ]
  },
  {
   "cell_type": "markdown",
   "id": "c7dc88b3",
   "metadata": {},
   "source": [
    "# Task 3"
   ]
  },
  {
   "cell_type": "code",
   "execution_count": 42,
   "id": "e278a78d",
   "metadata": {},
   "outputs": [
    {
     "name": "stdout",
     "output_type": "stream",
     "text": [
      "Array 1\n",
      "[81 69 63 43 72]\n",
      "\n",
      "Array 2\n",
      "[99 94 66  1 23]\n"
     ]
    }
   ],
   "source": [
    "array1 = np.random.randint(0,100,5)\n",
    "array2 = np.random.randint(0,100,5)\n",
    "\n",
    "print(\"Array 1\")\n",
    "print(array1)\n",
    "print(\"\\nArray 2\")\n",
    "print(array2)"
   ]
  },
  {
   "cell_type": "code",
   "execution_count": 43,
   "id": "71e229b3",
   "metadata": {},
   "outputs": [
    {
     "name": "stdout",
     "output_type": "stream",
     "text": [
      "[180 163 129  44  95]\n"
     ]
    }
   ],
   "source": [
    "print(array1 + array2)"
   ]
  },
  {
   "cell_type": "code",
   "execution_count": 44,
   "id": "6e8d28e0",
   "metadata": {},
   "outputs": [
    {
     "name": "stdout",
     "output_type": "stream",
     "text": [
      "[8019 6486 4158   43 1656]\n"
     ]
    }
   ],
   "source": [
    "print(array1 * array2)"
   ]
  },
  {
   "cell_type": "code",
   "execution_count": 46,
   "id": "843911b3",
   "metadata": {},
   "outputs": [
    {
     "name": "stdout",
     "output_type": "stream",
     "text": [
      "[6561 4761 3969 1849 5184]\n"
     ]
    }
   ],
   "source": [
    "print(array1 ** 2)"
   ]
  },
  {
   "cell_type": "markdown",
   "id": "2166d629",
   "metadata": {},
   "source": [
    "# Task 4"
   ]
  },
  {
   "cell_type": "code",
   "execution_count": 49,
   "id": "8d6d9509",
   "metadata": {},
   "outputs": [
    {
     "name": "stdout",
     "output_type": "stream",
     "text": [
      "Array A\n",
      "[[46  1 80]\n",
      " [49 28 61]]\n",
      "\n",
      "Array B\n",
      "[[21 26]\n",
      " [53 29]\n",
      " [55 39]]\n"
     ]
    }
   ],
   "source": [
    "array_A = np.random.randint(0, 100, (2,3))\n",
    "\n",
    "array_B = np.random.randint(0, 100, (3,2))\n",
    "\n",
    "print(\"Array A\")\n",
    "print(array_A)\n",
    "print(\"\\nArray B\")\n",
    "print(array_B)"
   ]
  },
  {
   "cell_type": "code",
   "execution_count": 50,
   "id": "7b7c39be",
   "metadata": {},
   "outputs": [
    {
     "name": "stdout",
     "output_type": "stream",
     "text": [
      "[[5419 4345]\n",
      " [5868 4465]]\n"
     ]
    }
   ],
   "source": [
    "matrix_mult_result = array_A @ array_B\n",
    "\n",
    "print(matrix_mult_result)"
   ]
  },
  {
   "cell_type": "code",
   "execution_count": 51,
   "id": "76ece004",
   "metadata": {},
   "outputs": [
    {
     "ename": "ValueError",
     "evalue": "operands could not be broadcast together with shapes (2,3) (3,2) ",
     "output_type": "error",
     "traceback": [
      "\u001b[0;31m---------------------------------------------------------------------------\u001b[0m",
      "\u001b[0;31mValueError\u001b[0m                                Traceback (most recent call last)",
      "Cell \u001b[0;32mIn[51], line 1\u001b[0m\n\u001b[0;32m----> 1\u001b[0m element_wise_mult \u001b[38;5;241m=\u001b[39m array_A \u001b[38;5;241m*\u001b[39m array_B\n\u001b[1;32m      3\u001b[0m \u001b[38;5;28mprint\u001b[39m(element_wise_mult)\n",
      "\u001b[0;31mValueError\u001b[0m: operands could not be broadcast together with shapes (2,3) (3,2) "
     ]
    }
   ],
   "source": [
    "element_wise_mult = array_A * array_B\n",
    "\n",
    "print(element_wise_mult)"
   ]
  },
  {
   "cell_type": "markdown",
   "id": "8045afa4",
   "metadata": {},
   "source": [
    "Does not work because the two arrays have different shapes. "
   ]
  }
 ],
 "metadata": {
  "kernelspec": {
   "display_name": "Python 3 (ipykernel)",
   "language": "python",
   "name": "python3"
  },
  "language_info": {
   "codemirror_mode": {
    "name": "ipython",
    "version": 3
   },
   "file_extension": ".py",
   "mimetype": "text/x-python",
   "name": "python",
   "nbconvert_exporter": "python",
   "pygments_lexer": "ipython3",
   "version": "3.11.4"
  }
 },
 "nbformat": 4,
 "nbformat_minor": 5
}
