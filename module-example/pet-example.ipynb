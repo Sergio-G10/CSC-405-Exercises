{
 "cells": [
  {
   "cell_type": "code",
   "execution_count": 1,
   "id": "8dbcf07e",
   "metadata": {},
   "outputs": [],
   "source": [
    "from pets import Pet"
   ]
  },
  {
   "cell_type": "code",
   "execution_count": 2,
   "id": "b12656d2",
   "metadata": {},
   "outputs": [
    {
     "name": "stdout",
     "output_type": "stream",
     "text": [
      "Fluffy is a Cat and they are str(6) years old.\n"
     ]
    }
   ],
   "source": [
    "fluffy = Pet(\"Fluffy\", \"Cat\", 6)\n",
    "fluffy.display()"
   ]
  }
 ],
 "metadata": {
  "kernelspec": {
   "display_name": "Python 3 (ipykernel)",
   "language": "python",
   "name": "python3"
  },
  "language_info": {
   "codemirror_mode": {
    "name": "ipython",
    "version": 3
   },
   "file_extension": ".py",
   "mimetype": "text/x-python",
   "name": "python",
   "nbconvert_exporter": "python",
   "pygments_lexer": "ipython3",
   "version": "3.11.4"
  }
 },
 "nbformat": 4,
 "nbformat_minor": 5
}
