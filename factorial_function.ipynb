{
 "cells": [
  {
   "cell_type": "markdown",
   "id": "d0a96bb9",
   "metadata": {},
   "source": [
    "# Jupyter Exercise: Factorial\n",
    "\n",
    "This exercise showcases programming in Jupyter. It also includes:\n",
    "\n",
    "- A factorial function using **recursion**\n",
    "- Markdown syntax for a heading and comments"
   ]
  },
  {
   "cell_type": "markdown",
   "id": "831b9b66",
   "metadata": {},
   "source": [
    "Factorial function takes in a number and finds the factorial of that number. It does this using recursion and calling itself, decreasing each time until the number is 0."
   ]
  },
  {
   "cell_type": "code",
   "execution_count": 1,
   "id": "0e5a9155",
   "metadata": {},
   "outputs": [],
   "source": [
    "def factorial(n):\n",
    "    if n == 0:\n",
    "        return 1\n",
    "    else:\n",
    "        return n * factorial(n - 1)"
   ]
  },
  {
   "cell_type": "code",
   "execution_count": 2,
   "id": "a4798be5",
   "metadata": {},
   "outputs": [
    {
     "data": {
      "text/plain": [
       "120"
      ]
     },
     "execution_count": 2,
     "metadata": {},
     "output_type": "execute_result"
    }
   ],
   "source": [
    "factorial(5)"
   ]
  }
 ],
 "metadata": {
  "kernelspec": {
   "display_name": "Python 3 (ipykernel)",
   "language": "python",
   "name": "python3"
  },
  "language_info": {
   "codemirror_mode": {
    "name": "ipython",
    "version": 3
   },
   "file_extension": ".py",
   "mimetype": "text/x-python",
   "name": "python",
   "nbconvert_exporter": "python",
   "pygments_lexer": "ipython3",
   "version": "3.11.4"
  }
 },
 "nbformat": 4,
 "nbformat_minor": 5
}
